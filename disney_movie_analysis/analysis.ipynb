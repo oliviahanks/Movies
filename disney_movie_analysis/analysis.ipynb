{
 "cells": [
  {
   "cell_type": "markdown",
   "metadata": {},
   "source": [
    "# Analysis Demonstration"
   ]
  },
  {
   "cell_type": "markdown",
   "metadata": {},
   "source": [
    "### (things to talk about: how we ran analysis, problems we ran into and how to solve them, how our functions could be use, things that surprised us, interesting conclusions, etc)"
   ]
  },
  {
   "cell_type": "markdown",
   "metadata": {},
   "source": [
    "## Import Functions"
   ]
  },
  {
   "cell_type": "code",
   "execution_count": 6,
   "metadata": {},
   "outputs": [],
   "source": [
    "# Packages\n",
    "import pandas as pd\n",
    "import requests\n",
    "from bs4 import BeautifulSoup\n",
    "import re\n",
    "import math\n",
    "\n",
    "# Our Functions\n",
    "from scrape_data import scrape_imdb, scrape_rotten_tomatoes, get_html_text\n",
    "from clean_data import clean_rotten_tomatoes, clean_imdb\n"
   ]
  },
  {
   "cell_type": "markdown",
   "metadata": {},
   "source": [
    "## Use Our Functions to Scrape and Clean Data\n",
    "Our functions allow you to scrape data from imdb and rotten tomatoes lists of movies. The two lists we are using for our data are https://editorial.rottentomatoes.com/guide/disney-100-essential-movies/ and https://www.imdb.com/list/ls089035876/?sort=release_date,desc&st_dt=&mode=detail&page=1 which goes on to have five pages of disney movies. After scraping we create a csv file of the raw data which we then pass to our cleaning functions. The raw data as well as the final cleaned datasets are included in the data folder."
   ]
  },
  {
   "cell_type": "code",
   "execution_count": null,
   "metadata": {},
   "outputs": [],
   "source": [
    "# Scrape from Rotten Tomatoes\n",
    "\n",
    "webpage = \"https://editorial.rottentomatoes.com/guide/disney-100-essential-movies/\"\n",
    "rotten_tomatoes = scrape_rotten_tomatoes(webpage)\n",
    "rotten_tomatoes.to_csv('disney_movie_analysis/data/rotten_tomatoes_raw.csv', index = False)"
   ]
  },
  {
   "cell_type": "code",
   "execution_count": null,
   "metadata": {},
   "outputs": [],
   "source": [
    "# Scrape from IMDB\n",
    "\n",
    "webpages = [\"https://www.imdb.com/list/ls089035876/?sort=release_date,desc&st_dt=&mode=detail&page=1\", \n",
    "            \"https://www.imdb.com/list/ls089035876/?sort=release_date,desc&st_dt=&mode=detail&page=2\",\n",
    "            \"https://www.imdb.com/list/ls089035876/?sort=release_date,desc&st_dt=&mode=detail&page=3\", \n",
    "            \"https://www.imdb.com/list/ls089035876/?sort=release_date,desc&st_dt=&mode=detail&page=4\",\n",
    "            \"https://www.imdb.com/list/ls089035876/?sort=release_date,desc&st_dt=&mode=detail&page=5\"]\n",
    "\n",
    "imdb = pd.DataFrame()\n",
    "for webpage in webpages:\n",
    "    imdb = pd.concat([imdb, scrape_imdb(webpage)])\n",
    "\n",
    "imdb.to_csv('disney_movie_analysis/data/imdb_raw.csv', index = False)"
   ]
  },
  {
   "cell_type": "code",
   "execution_count": null,
   "metadata": {},
   "outputs": [],
   "source": [
    "# Clean Rotten Tomatoes Dataframe\n",
    "\n",
    "rotten_tomatoes = pd.read_csv('disney_movie_analysis/data/rotten_tomatoes_raw.csv')\n",
    "\n",
    "rotten_tomatoes = rotten_tomatoes.drop(32)\n",
    "rotten_tomatoes = clean_rotten_tomatoes(rotten_tomatoes)\n",
    "\n",
    "rotten_tomatoes.to_csv('disney_movie_analysis/data/rotten_tomatoes.csv', index = False)"
   ]
  },
  {
   "cell_type": "code",
   "execution_count": null,
   "metadata": {},
   "outputs": [],
   "source": [
    "# Clean IMDB Dataframe\n",
    "\n",
    "imdb = pd.read_csv('disney_movie_analysis/data/imdb_raw.csv')\n",
    "\n",
    "imdb = imdb.drop(19, axis='index')\n",
    "imdb = imdb.drop(170, axis='index')\n",
    "imdb = clean_imdb(imdb)\n",
    "\n",
    "imdb.to_csv('disney_movie_analysis/data/imdb.csv', index = False)"
   ]
  }
 ],
 "metadata": {
  "kernelspec": {
   "display_name": "base",
   "language": "python",
   "name": "python3"
  },
  "language_info": {
   "codemirror_mode": {
    "name": "ipython",
    "version": 3
   },
   "file_extension": ".py",
   "mimetype": "text/x-python",
   "name": "python",
   "nbconvert_exporter": "python",
   "pygments_lexer": "ipython3",
   "version": "3.10.9"
  }
 },
 "nbformat": 4,
 "nbformat_minor": 2
}
