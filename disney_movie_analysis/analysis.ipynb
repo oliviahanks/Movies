{
 "cells": [
  {
   "cell_type": "markdown",
   "metadata": {},
   "source": [
    "# Analysis Demonstration"
   ]
  },
  {
   "cell_type": "markdown",
   "metadata": {},
   "source": [
    "### (things to talk about: how we ran analysis and gathered data, problems we ran into and how to solve them, how our functions could be used, things that surprised us, interesting conclusions, etc)"
   ]
  },
  {
   "cell_type": "markdown",
   "metadata": {},
   "source": [
    "## Import Functions"
   ]
  },
  {
   "cell_type": "code",
   "execution_count": 7,
   "metadata": {},
   "outputs": [],
   "source": [
    "# Packages\n",
    "import pandas as pd\n",
    "import numpy as np\n",
    "import requests\n",
    "import re\n",
    "from bs4 import BeautifulSoup\n",
    "import matplotlib.pyplot as plt\n",
    "import math\n",
    "import seaborn as sns\n",
    "from collections import Counter\n",
    "\n",
    "# Our Functions\n",
    "from scrape_data import scrape_imdb, scrape_rotten_tomatoes, get_html_text\n",
    "from clean_data import clean_imdb, clean_rotten_tomatoes\n",
    "from analysis_functions import list_averages\n",
    "\n"
   ]
  },
  {
   "cell_type": "markdown",
   "metadata": {},
   "source": [
    "## Use Our Functions to Scrape and Clean Data\n",
    "Our functions allow you to scrape data from imdb and rotten tomatoes lists of movies. The two lists we are using for our data are https://editorial.rottentomatoes.com/guide/disney-100-essential-movies/ and https://www.imdb.com/list/ls089035876/?sort=release_date,desc&st_dt=&mode=detail&page=1 which goes on to have five pages of disney movies. After scraping we create a csv file of the raw data which we then pass to our cleaning functions. The raw data as well as the final cleaned datasets are included in the data folder."
   ]
  },
  {
   "cell_type": "code",
   "execution_count": 2,
   "metadata": {},
   "outputs": [
    {
     "name": "stderr",
     "output_type": "stream",
     "text": [
      "c:\\Users\\Daisy Harris\\Desktop\\Stat_386\\Movies\\disney_movie_analysis\\scrape_data.py:41: GuessedAtParserWarning: No parser was explicitly specified, so I'm using the best available HTML parser for this system (\"lxml\"). This usually isn't a problem, but if you run this code on another system, or in a different virtual environment, it may use a different parser and behave differently.\n",
      "\n",
      "The code that caused this warning is on line 41 of the file c:\\Users\\Daisy Harris\\Desktop\\Stat_386\\Movies\\disney_movie_analysis\\scrape_data.py. To get rid of this warning, pass the additional argument 'features=\"lxml\"' to the BeautifulSoup constructor.\n",
      "\n",
      "  soup = BeautifulSoup(r.text)\n"
     ]
    }
   ],
   "source": [
    "# Scrape from Rotten Tomatoes\n",
    "\n",
    "webpage = \"https://editorial.rottentomatoes.com/guide/disney-100-essential-movies/\"\n",
    "rotten_tomatoes = scrape_rotten_tomatoes(webpage)\n",
    "rotten_tomatoes.to_csv('data/rotten_tomatoes_raw.csv', index = False)"
   ]
  },
  {
   "cell_type": "code",
   "execution_count": 10,
   "metadata": {},
   "outputs": [
    {
     "name": "stderr",
     "output_type": "stream",
     "text": [
      "c:\\Users\\Daisy Harris\\Desktop\\Stat_386\\Movies\\disney_movie_analysis\\scrape_data.py:70: GuessedAtParserWarning: No parser was explicitly specified, so I'm using the best available HTML parser for this system (\"lxml\"). This usually isn't a problem, but if you run this code on another system, or in a different virtual environment, it may use a different parser and behave differently.\n",
      "\n",
      "The code that caused this warning is on line 70 of the file c:\\Users\\Daisy Harris\\Desktop\\Stat_386\\Movies\\disney_movie_analysis\\scrape_data.py. To get rid of this warning, pass the additional argument 'features=\"lxml\"' to the BeautifulSoup constructor.\n",
      "\n",
      "  soup = BeautifulSoup(r.text)\n"
     ]
    },
    {
     "ename": "UnboundLocalError",
     "evalue": "local variable 'text' referenced before assignment",
     "output_type": "error",
     "traceback": [
      "\u001b[1;31m---------------------------------------------------------------------------\u001b[0m",
      "\u001b[1;31mAttributeError\u001b[0m                            Traceback (most recent call last)",
      "File \u001b[1;32mc:\\Users\\Daisy Harris\\Desktop\\Stat_386\\Movies\\disney_movie_analysis\\scrape_data.py:22\u001b[0m, in \u001b[0;36mget_html_text\u001b[1;34m(bs, name, attrs)\u001b[0m\n\u001b[0;32m     21\u001b[0m \u001b[39mtry\u001b[39;00m:\n\u001b[1;32m---> 22\u001b[0m     text \u001b[39m=\u001b[39m bs\u001b[39m.\u001b[39;49mfind(name, attrs)\u001b[39m.\u001b[39;49mtext\n\u001b[0;32m     23\u001b[0m \u001b[39mexcept\u001b[39;00m:\n",
      "\u001b[1;31mAttributeError\u001b[0m: 'NoneType' object has no attribute 'text'",
      "\nDuring handling of the above exception, another exception occurred:\n",
      "\u001b[1;31mUnboundLocalError\u001b[0m                         Traceback (most recent call last)",
      "\u001b[1;32mc:\\Users\\Daisy Harris\\Desktop\\Stat_386\\Movies\\disney_movie_analysis\\analysis.ipynb Cell 7\u001b[0m line \u001b[0;36m1\n\u001b[0;32m      <a href='vscode-notebook-cell:/c%3A/Users/Daisy%20Harris/Desktop/Stat_386/Movies/disney_movie_analysis/analysis.ipynb#W6sZmlsZQ%3D%3D?line=8'>9</a>\u001b[0m imdb \u001b[39m=\u001b[39m pd\u001b[39m.\u001b[39mDataFrame()\n\u001b[0;32m     <a href='vscode-notebook-cell:/c%3A/Users/Daisy%20Harris/Desktop/Stat_386/Movies/disney_movie_analysis/analysis.ipynb#W6sZmlsZQ%3D%3D?line=9'>10</a>\u001b[0m \u001b[39mfor\u001b[39;00m webpage \u001b[39min\u001b[39;00m webpages:\n\u001b[1;32m---> <a href='vscode-notebook-cell:/c%3A/Users/Daisy%20Harris/Desktop/Stat_386/Movies/disney_movie_analysis/analysis.ipynb#W6sZmlsZQ%3D%3D?line=10'>11</a>\u001b[0m     imdb \u001b[39m=\u001b[39m pd\u001b[39m.\u001b[39mconcat([imdb, scrape_imdb(webpage)])\n\u001b[0;32m     <a href='vscode-notebook-cell:/c%3A/Users/Daisy%20Harris/Desktop/Stat_386/Movies/disney_movie_analysis/analysis.ipynb#W6sZmlsZQ%3D%3D?line=12'>13</a>\u001b[0m imdb\u001b[39m.\u001b[39mto_csv(\u001b[39m'\u001b[39m\u001b[39mdisney_movie_analysis/data/imdb_raw.csv\u001b[39m\u001b[39m'\u001b[39m, index \u001b[39m=\u001b[39m \u001b[39mFalse\u001b[39;00m)\n",
      "File \u001b[1;32mc:\\Users\\Daisy Harris\\Desktop\\Stat_386\\Movies\\disney_movie_analysis\\scrape_data.py:79\u001b[0m, in \u001b[0;36mscrape_imdb\u001b[1;34m(webpage)\u001b[0m\n\u001b[0;32m     77\u001b[0m movies[\u001b[39m'\u001b[39m\u001b[39mtitle\u001b[39m\u001b[39m'\u001b[39m]\u001b[39m.\u001b[39mappend(get_html_text(occurence, \u001b[39m'\u001b[39m\u001b[39mh3\u001b[39m\u001b[39m'\u001b[39m, {\u001b[39m'\u001b[39m\u001b[39mclass\u001b[39m\u001b[39m'\u001b[39m: \u001b[39m'\u001b[39m\u001b[39mlister-item-header\u001b[39m\u001b[39m'\u001b[39m}))\n\u001b[0;32m     78\u001b[0m movies[\u001b[39m'\u001b[39m\u001b[39myear\u001b[39m\u001b[39m'\u001b[39m]\u001b[39m.\u001b[39mappend(get_html_text(occurence, \u001b[39m'\u001b[39m\u001b[39mspan\u001b[39m\u001b[39m'\u001b[39m, {\u001b[39m'\u001b[39m\u001b[39mclass:\u001b[39m\u001b[39m'\u001b[39m, \u001b[39m'\u001b[39m\u001b[39mlister-item-year text-muted unbold\u001b[39m\u001b[39m'\u001b[39m})) \n\u001b[1;32m---> 79\u001b[0m movies[\u001b[39m'\u001b[39m\u001b[39mrating\u001b[39m\u001b[39m'\u001b[39m]\u001b[39m.\u001b[39mappend(get_html_text(occurence, \u001b[39m'\u001b[39;49m\u001b[39mspan\u001b[39;49m\u001b[39m'\u001b[39;49m, {\u001b[39m'\u001b[39;49m\u001b[39mclass\u001b[39;49m\u001b[39m'\u001b[39;49m: \u001b[39m'\u001b[39;49m\u001b[39mcertificate\u001b[39;49m\u001b[39m'\u001b[39;49m}))\n\u001b[0;32m     80\u001b[0m movies[\u001b[39m'\u001b[39m\u001b[39mruntime\u001b[39m\u001b[39m'\u001b[39m]\u001b[39m.\u001b[39mappend(get_html_text(occurence, \u001b[39m'\u001b[39m\u001b[39mspan\u001b[39m\u001b[39m'\u001b[39m, {\u001b[39m'\u001b[39m\u001b[39mclass\u001b[39m\u001b[39m'\u001b[39m: \u001b[39m'\u001b[39m\u001b[39mruntime\u001b[39m\u001b[39m'\u001b[39m}))\n\u001b[0;32m     81\u001b[0m movies[\u001b[39m'\u001b[39m\u001b[39mgenre\u001b[39m\u001b[39m'\u001b[39m]\u001b[39m.\u001b[39mappend(get_html_text(occurence, \u001b[39m'\u001b[39m\u001b[39mspan\u001b[39m\u001b[39m'\u001b[39m, {\u001b[39m'\u001b[39m\u001b[39mclass\u001b[39m\u001b[39m'\u001b[39m: \u001b[39m'\u001b[39m\u001b[39mgenre\u001b[39m\u001b[39m'\u001b[39m}))\n",
      "File \u001b[1;32mc:\\Users\\Daisy Harris\\Desktop\\Stat_386\\Movies\\disney_movie_analysis\\scrape_data.py:24\u001b[0m, in \u001b[0;36mget_html_text\u001b[1;34m(bs, name, attrs)\u001b[0m\n\u001b[0;32m     22\u001b[0m     text \u001b[39m=\u001b[39m bs\u001b[39m.\u001b[39mfind(name, attrs)\u001b[39m.\u001b[39mtext\n\u001b[0;32m     23\u001b[0m \u001b[39mexcept\u001b[39;00m:\n\u001b[1;32m---> 24\u001b[0m     text \u001b[39m=\u001b[39m \u001b[39mNone\u001b[39;00m \u001b[39m|\u001b[39m text\u001b[39m.\u001b[39misna()\n\u001b[0;32m     25\u001b[0m \u001b[39mreturn\u001b[39;00m text\n",
      "\u001b[1;31mUnboundLocalError\u001b[0m: local variable 'text' referenced before assignment"
     ]
    }
   ],
   "source": [
    "# Scrape from IMDB\n",
    "\n",
    "webpages = [\"https://www.imdb.com/list/ls089035876/?sort=release_date,desc&st_dt=&mode=detail&page=1\", \n",
    "            \"https://www.imdb.com/list/ls089035876/?sort=release_date,desc&st_dt=&mode=detail&page=2\",\n",
    "            \"https://www.imdb.com/list/ls089035876/?sort=release_date,desc&st_dt=&mode=detail&page=3\", \n",
    "            \"https://www.imdb.com/list/ls089035876/?sort=release_date,desc&st_dt=&mode=detail&page=4\",\n",
    "            \"https://www.imdb.com/list/ls089035876/?sort=release_date,desc&st_dt=&mode=detail&page=5\"]\n",
    "\n",
    "imdb = pd.DataFrame()\n",
    "for webpage in webpages:\n",
    "    imdb = pd.concat([imdb, scrape_imdb(webpage)])\n",
    "\n",
    "imdb.to_csv('disney_movie_analysis/data/imdb_raw.csv', index = False)"
   ]
  },
  {
   "cell_type": "code",
   "execution_count": null,
   "metadata": {},
   "outputs": [],
   "source": [
    "# Clean Rotten Tomatoes Dataframe\n",
    "\n",
    "rotten_tomatoes = pd.read_csv('data/rotten_tomatoes_raw.csv')\n",
    "\n",
    "rotten_tomatoes = clean_rotten_tomatoes(rotten_tomatoes)\n",
    "\n",
    "rotten_tomatoes.to_csv('data/rotten_tomatoes.csv', index = False)"
   ]
  },
  {
   "cell_type": "code",
   "execution_count": 29,
   "metadata": {},
   "outputs": [],
   "source": [
    "# Clean IMDB Dataframe\n",
    "\n",
    "imdb = pd.read_csv('data/imdb_raw.csv')\n",
    "\n",
    "# Drop 19 since it has no reviews or data aside from name\n",
    "imdb = imdb.drop(19, axis='index')\n",
    "\n",
    "# Drop 170 since it is a DVD containing episodes from different shows and not a movie\n",
    "imdb = imdb.drop(170, axis='index')\n",
    "\n",
    "imdb = clean_imdb(imdb)\n",
    "\n",
    "imdb.to_csv('disney_movie_analysis/data/imdb.csv', index = False)"
   ]
  },
  {
   "cell_type": "markdown",
   "metadata": {},
   "source": [
    "We can then merge the two datasets to run comparisons."
   ]
  },
  {
   "cell_type": "code",
   "execution_count": null,
   "metadata": {},
   "outputs": [],
   "source": [
    "merged = rotten_tomatoes.merge(imdb, how= 'inner', on = ['title', 'year'])\n",
    "merged.to_csv('disney_movie_analysis/data/merged.csv', index = False)"
   ]
  },
  {
   "cell_type": "markdown",
   "metadata": {},
   "source": [
    "Below we utilize our list_averages function to get the average score for each director included in the directors column. Here we look at the top 20 directors."
   ]
  },
  {
   "cell_type": "markdown",
   "metadata": {},
   "source": [
    "item_count = imdb['director'].apply(lambda x: Counter(x))\n",
    "top_directors = pd.DataFrame(sum(item_count, Counter()).most_common(20))\n",
    "\n",
    "\n",
    "director_scores = list_averages(imdb, imdb['director'], imdb['score'])\n",
    "top_scores = director_scores[director_scores[0].isin(list(top_directors[0]))]\n",
    "\n",
    "top_directors.merge(top_scores, 'outer', on = [0])"
   ]
  },
  {
   "cell_type": "markdown",
   "metadata": {},
   "source": [
    "We use the same function to compute ratings for each genre. And then compare the genre ratings between imdb and rotten tomatoes."
   ]
  },
  {
   "cell_type": "code",
   "execution_count": null,
   "metadata": {},
   "outputs": [],
   "source": [
    "imdb['genre'] = imdb['genre'].apply(lambda x: x.replace(', ', ',')).str.split(',')\n",
    "genre_ratings = list_averages(imdb, imdb['genre'], imdb['score'])\n",
    "genre_ratings.sort_values(by = 1)"
   ]
  },
  {
   "cell_type": "code",
   "execution_count": null,
   "metadata": {},
   "outputs": [],
   "source": [
    "merged['genre'] = merged['genre'].apply(lambda x: x.replace(', ', ',')).str.split(',')\n",
    "genre_ratings2 = list_averages(merged, merged['genre'], merged['score_y'])\n",
    "genre_ratings2.sort_values(by = 1)"
   ]
  },
  {
   "cell_type": "code",
   "execution_count": null,
   "metadata": {},
   "outputs": [],
   "source": [
    "genre_ratings3 = list_averages(merged, merged['genre'], merged['comparison_score'])\n",
    "genre_ratings3[1] = genre_ratings3[1].astype(float)\n",
    "genre_ratings3.sort_values(by = 1)"
   ]
  },
  {
   "cell_type": "markdown",
   "metadata": {},
   "source": [
    "Continuing our comparisons, we can look at the average score for rotten tomatoes and for IMDB."
   ]
  },
  {
   "cell_type": "code",
   "execution_count": null,
   "metadata": {},
   "outputs": [],
   "source": [
    "print(\"IMDB Score:\" + merged.score_y.mean())\n",
    "print(\"Rotten Tomatoes Score:\" + merged.comparison_score.mean())"
   ]
  },
  {
   "cell_type": "markdown",
   "metadata": {},
   "source": [
    "Here is the score by decade for IMDB."
   ]
  },
  {
   "cell_type": "code",
   "execution_count": null,
   "metadata": {},
   "outputs": [],
   "source": [
    "merged.groupby(merged['decade']).score_y.mean()"
   ]
  },
  {
   "cell_type": "markdown",
   "metadata": {},
   "source": [
    "And here is the same for Rotten Tomatoes."
   ]
  },
  {
   "cell_type": "code",
   "execution_count": null,
   "metadata": {},
   "outputs": [],
   "source": [
    "merged.groupby(merged['decade']).comparison_score.mean()"
   ]
  },
  {
   "cell_type": "markdown",
   "metadata": {},
   "source": [
    "And finally a graphical comparison."
   ]
  },
  {
   "cell_type": "code",
   "execution_count": null,
   "metadata": {},
   "outputs": [],
   "source": [
    "plt.scatter(merged.score_y, merged.comparison_score) \n",
    "plt.xlabel('IMDB')\n",
    "plt.ylabel('Rotten Tomatoes')\n",
    "plt.title('')"
   ]
  },
  {
   "cell_type": "markdown",
   "metadata": {},
   "source": [
    "Another object of interest is the scores by movie rating."
   ]
  },
  {
   "cell_type": "code",
   "execution_count": null,
   "metadata": {},
   "outputs": [],
   "source": [
    "imdb.groupby(imdb['rating']).score.mean()"
   ]
  },
  {
   "cell_type": "markdown",
   "metadata": {},
   "source": [
    "We can also look at trends over the years in the following graphs."
   ]
  },
  {
   "cell_type": "code",
   "execution_count": null,
   "metadata": {},
   "outputs": [],
   "source": [
    "plt.plot(imdb.groupby(imdb['year']).gross.mean(),  'r') \n",
    "plt.xlabel('Year')\n",
    "plt.ylabel('Gross')\n",
    "plt.title('Average Gross By Year')"
   ]
  },
  {
   "cell_type": "code",
   "execution_count": null,
   "metadata": {},
   "outputs": [],
   "source": [
    "plt.plot(imdb.groupby(imdb['year']).runtime.mean(),  'r') \n",
    "plt.xlabel('Year')\n",
    "plt.ylabel('Runtime')\n",
    "plt.title('Average Runtime By Year')"
   ]
  },
  {
   "cell_type": "code",
   "execution_count": null,
   "metadata": {},
   "outputs": [],
   "source": [
    "plt.plot(imdb.groupby(imdb['year']).score.mean(),  'r') \n",
    "plt.xlabel('Year')\n",
    "plt.ylabel('Mean Score')\n",
    "plt.title('Average IMDB Score By Year')"
   ]
  },
  {
   "cell_type": "markdown",
   "metadata": {},
   "source": [
    "And finally the complete pairplot."
   ]
  },
  {
   "cell_type": "code",
   "execution_count": null,
   "metadata": {},
   "outputs": [],
   "source": [
    "sns.pairplot(imdb, hue = 'rating')"
   ]
  }
 ],
 "metadata": {
  "kernelspec": {
   "display_name": "base",
   "language": "python",
   "name": "python3"
  },
  "language_info": {
   "codemirror_mode": {
    "name": "ipython",
    "version": 3
   },
   "file_extension": ".py",
   "mimetype": "text/x-python",
   "name": "python",
   "nbconvert_exporter": "python",
   "pygments_lexer": "ipython3",
   "version": "3.10.9"
  }
 },
 "nbformat": 4,
 "nbformat_minor": 2
}
