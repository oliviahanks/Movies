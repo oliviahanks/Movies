{
 "cells": [
  {
   "cell_type": "markdown",
   "metadata": {},
   "source": [
    "# Analysis Demonstration"
   ]
  },
  {
   "cell_type": "markdown",
   "metadata": {},
   "source": [
    "### (things to talk about: how we ran analysis, problems we ran into and how to solve them, how our functions could be use, things that surprised us, interesting conclusions, etc)"
   ]
  },
  {
   "cell_type": "markdown",
   "metadata": {},
   "source": [
    "## Import Functions"
   ]
  },
  {
   "cell_type": "code",
   "execution_count": 26,
   "metadata": {},
   "outputs": [],
   "source": [
    "# Packages\n",
    "import pandas as pd\n",
    "import requests\n",
    "from bs4 import BeautifulSoup\n",
    "import re\n",
    "import math\n",
    "\n",
    "# Our Functions\n",
    "from scrape_data import scrape_imdb, scrape_rotten_tomatoes, get_html_text\n",
    "from clean_data import clean_rotten_tomatoes, clean_imdb\n"
   ]
  },
  {
   "cell_type": "markdown",
   "metadata": {},
   "source": [
    "## Use Our Functions to Scrape and Clean Data\n",
    "Our functions allow you to scrape data from imdb and rotten tomatoes lists of movies. The two lists we are using for our data are https://editorial.rottentomatoes.com/guide/disney-100-essential-movies/ and https://www.imdb.com/list/ls089035876/?sort=release_date,desc&st_dt=&mode=detail&page=1 which goes on to have five pages of disney movies. After scraping we create a csv file of the raw data which we then pass to our cleaning functions. The raw data as well as the final cleaned datasets are included in the data folder."
   ]
  },
  {
   "cell_type": "code",
   "execution_count": 27,
   "metadata": {},
   "outputs": [
    {
     "name": "stderr",
     "output_type": "stream",
     "text": [
      "\n",
      "KeyboardInterrupt\n",
      "\n"
     ]
    }
   ],
   "source": [
    "# Scrape from Rotten Tomatoes\n",
    "\n",
    "webpage = \"https://editorial.rottentomatoes.com/guide/disney-100-essential-movies/\"\n",
    "rotten_tomatoes = scrape_rotten_tomatoes(webpage)\n",
    "rotten_tomatoes.to_csv('data/rotten_tomatoes_raw.csv', index = False)"
   ]
  },
  {
   "cell_type": "code",
   "execution_count": null,
   "metadata": {},
   "outputs": [
    {
     "data": {
      "text/html": [
       "<div>\n",
       "<style scoped>\n",
       "    .dataframe tbody tr th:only-of-type {\n",
       "        vertical-align: middle;\n",
       "    }\n",
       "\n",
       "    .dataframe tbody tr th {\n",
       "        vertical-align: top;\n",
       "    }\n",
       "\n",
       "    .dataframe thead th {\n",
       "        text-align: right;\n",
       "    }\n",
       "</style>\n",
       "<table border=\"1\" class=\"dataframe\">\n",
       "  <thead>\n",
       "    <tr style=\"text-align: right;\">\n",
       "      <th></th>\n",
       "      <th>title</th>\n",
       "      <th>year</th>\n",
       "      <th>score</th>\n",
       "      <th>actors</th>\n",
       "      <th>director</th>\n",
       "    </tr>\n",
       "  </thead>\n",
       "  <tbody>\n",
       "    <tr>\n",
       "      <th>0</th>\n",
       "      <td>\\nThe Little Mermaid (2023)  67%\\n</td>\n",
       "      <td>(2023)</td>\n",
       "      <td>67%</td>\n",
       "      <td>\\nStarring: Halle Bailey, Jonah Hauer-King, Ja...</td>\n",
       "      <td>\\nDirected By: Rob Marshall</td>\n",
       "    </tr>\n",
       "    <tr>\n",
       "      <th>1</th>\n",
       "      <td>\\nTurning Red (2022)  95%\\n</td>\n",
       "      <td>(2022)</td>\n",
       "      <td>95%</td>\n",
       "      <td>\\nStarring: Rosalie Chiang, Sandra Oh, Ava Mor...</td>\n",
       "      <td>\\nDirected By: Domee Shi</td>\n",
       "    </tr>\n",
       "    <tr>\n",
       "      <th>2</th>\n",
       "      <td>\\nRaya and the Last Dragon (2021)  93%\\n</td>\n",
       "      <td>(2021)</td>\n",
       "      <td>93%</td>\n",
       "      <td>\\nStarring: Kelly Marie Tran, Awkwafina, Izaac...</td>\n",
       "      <td>\\nDirected By: Don Hall, Carlos López Estrada</td>\n",
       "    </tr>\n",
       "    <tr>\n",
       "      <th>3</th>\n",
       "      <td>\\nEncanto (2021)  92%\\n</td>\n",
       "      <td>(2021)</td>\n",
       "      <td>92%</td>\n",
       "      <td>\\nStarring: Stephanie Beatriz, María Cecilia B...</td>\n",
       "      <td>\\nDirected By: Jared Bush, Byron Howard</td>\n",
       "    </tr>\n",
       "    <tr>\n",
       "      <th>4</th>\n",
       "      <td>\\nOnward (2020)  88%\\n</td>\n",
       "      <td>(2020)</td>\n",
       "      <td>88%</td>\n",
       "      <td>\\nStarring: Tom Holland, Chris Pratt, Julia Lo...</td>\n",
       "      <td>\\nDirected By: Dan Scanlon</td>\n",
       "    </tr>\n",
       "    <tr>\n",
       "      <th>...</th>\n",
       "      <td>...</td>\n",
       "      <td>...</td>\n",
       "      <td>...</td>\n",
       "      <td>...</td>\n",
       "      <td>...</td>\n",
       "    </tr>\n",
       "    <tr>\n",
       "      <th>95</th>\n",
       "      <td>\\nBambi (1942)  91%\\n</td>\n",
       "      <td>(1942)</td>\n",
       "      <td>91%</td>\n",
       "      <td>\\nStarring: Hardie Albright, Stan Alexander, P...</td>\n",
       "      <td>\\nDirected By: David Hand</td>\n",
       "    </tr>\n",
       "    <tr>\n",
       "      <th>96</th>\n",
       "      <td>\\nDumbo (1941)  95%\\n</td>\n",
       "      <td>(1941)</td>\n",
       "      <td>95%</td>\n",
       "      <td>\\nStarring: Herman Bing, Billy Bletcher, Edwar...</td>\n",
       "      <td>\\nDirected By: Ben Sharpsteen</td>\n",
       "    </tr>\n",
       "    <tr>\n",
       "      <th>97</th>\n",
       "      <td>\\nFantasia (1940)  95%\\n</td>\n",
       "      <td>(1940)</td>\n",
       "      <td>95%</td>\n",
       "      <td>\\nStarring: Deems Taylor, Leopold Stokowski, W...</td>\n",
       "      <td>\\nDirected By: James Algar, Samuel Armstrong, ...</td>\n",
       "    </tr>\n",
       "    <tr>\n",
       "      <th>98</th>\n",
       "      <td>\\nPinocchio (1940)  100%\\n</td>\n",
       "      <td>(1940)</td>\n",
       "      <td>100%</td>\n",
       "      <td>\\nStarring: Don Brodie, Walter Catlett, Franki...</td>\n",
       "      <td>\\nDirected By: Ben Sharpsteen, Hamilton Luske</td>\n",
       "    </tr>\n",
       "    <tr>\n",
       "      <th>99</th>\n",
       "      <td>\\nSnow White and the Seven Dwarfs (1937)  97%\\n</td>\n",
       "      <td>(1937)</td>\n",
       "      <td>97%</td>\n",
       "      <td>\\nStarring: Adriana Caselotti, Harry Stockwell...</td>\n",
       "      <td>\\nDirected By: David Hand</td>\n",
       "    </tr>\n",
       "  </tbody>\n",
       "</table>\n",
       "<p>100 rows × 5 columns</p>\n",
       "</div>"
      ],
      "text/plain": [
       "                                              title    year score  \\\n",
       "0                \\nThe Little Mermaid (2023)  67%\\n  (2023)   67%   \n",
       "1                       \\nTurning Red (2022)  95%\\n  (2022)   95%   \n",
       "2          \\nRaya and the Last Dragon (2021)  93%\\n  (2021)   93%   \n",
       "3                           \\nEncanto (2021)  92%\\n  (2021)   92%   \n",
       "4                            \\nOnward (2020)  88%\\n  (2020)   88%   \n",
       "..                                              ...     ...   ...   \n",
       "95                            \\nBambi (1942)  91%\\n  (1942)   91%   \n",
       "96                            \\nDumbo (1941)  95%\\n  (1941)   95%   \n",
       "97                         \\nFantasia (1940)  95%\\n  (1940)   95%   \n",
       "98                       \\nPinocchio (1940)  100%\\n  (1940)  100%   \n",
       "99  \\nSnow White and the Seven Dwarfs (1937)  97%\\n  (1937)   97%   \n",
       "\n",
       "                                               actors  \\\n",
       "0   \\nStarring: Halle Bailey, Jonah Hauer-King, Ja...   \n",
       "1   \\nStarring: Rosalie Chiang, Sandra Oh, Ava Mor...   \n",
       "2   \\nStarring: Kelly Marie Tran, Awkwafina, Izaac...   \n",
       "3   \\nStarring: Stephanie Beatriz, María Cecilia B...   \n",
       "4   \\nStarring: Tom Holland, Chris Pratt, Julia Lo...   \n",
       "..                                                ...   \n",
       "95  \\nStarring: Hardie Albright, Stan Alexander, P...   \n",
       "96  \\nStarring: Herman Bing, Billy Bletcher, Edwar...   \n",
       "97  \\nStarring: Deems Taylor, Leopold Stokowski, W...   \n",
       "98  \\nStarring: Don Brodie, Walter Catlett, Franki...   \n",
       "99  \\nStarring: Adriana Caselotti, Harry Stockwell...   \n",
       "\n",
       "                                             director  \n",
       "0                         \\nDirected By: Rob Marshall  \n",
       "1                            \\nDirected By: Domee Shi  \n",
       "2       \\nDirected By: Don Hall, Carlos López Estrada  \n",
       "3             \\nDirected By: Jared Bush, Byron Howard  \n",
       "4                          \\nDirected By: Dan Scanlon  \n",
       "..                                                ...  \n",
       "95                          \\nDirected By: David Hand  \n",
       "96                      \\nDirected By: Ben Sharpsteen  \n",
       "97  \\nDirected By: James Algar, Samuel Armstrong, ...  \n",
       "98      \\nDirected By: Ben Sharpsteen, Hamilton Luske  \n",
       "99                          \\nDirected By: David Hand  \n",
       "\n",
       "[100 rows x 5 columns]"
      ]
     },
     "execution_count": 12,
     "metadata": {},
     "output_type": "execute_result"
    }
   ],
   "source": [
    "rotten_tomatoes"
   ]
  },
  {
   "cell_type": "code",
   "execution_count": null,
   "metadata": {},
   "outputs": [],
   "source": [
    "# Scrape from IMDB\n",
    "\n",
    "webpages = [\"https://www.imdb.com/list/ls089035876/?sort=release_date,desc&st_dt=&mode=detail&page=1\", \n",
    "            \"https://www.imdb.com/list/ls089035876/?sort=release_date,desc&st_dt=&mode=detail&page=2\",\n",
    "            \"https://www.imdb.com/list/ls089035876/?sort=release_date,desc&st_dt=&mode=detail&page=3\", \n",
    "            \"https://www.imdb.com/list/ls089035876/?sort=release_date,desc&st_dt=&mode=detail&page=4\",\n",
    "            \"https://www.imdb.com/list/ls089035876/?sort=release_date,desc&st_dt=&mode=detail&page=5\"]\n",
    "\n",
    "imdb = pd.DataFrame()\n",
    "for webpage in webpages:\n",
    "    imdb = pd.concat([imdb, scrape_imdb(webpage)])\n",
    "\n",
    "imdb.to_csv('disney_movie_analysis/data/imdb_raw.csv', index = False)"
   ]
  },
  {
   "cell_type": "code",
   "execution_count": null,
   "metadata": {},
   "outputs": [],
   "source": [
    "# Clean Rotten Tomatoes Dataframe\n",
    "\n",
    "rotten_tomatoes = pd.read_csv('data/rotten_tomatoes_raw.csv')\n",
    "\n",
    "rotten_tomatoes = clean_rotten_tomatoes(rotten_tomatoes)\n",
    "\n",
    "rotten_tomatoes.to_csv('data/rotten_tomatoes.csv', index = False)"
   ]
  },
  {
   "cell_type": "code",
   "execution_count": 29,
   "metadata": {},
   "outputs": [],
   "source": [
    "# Clean IMDB Dataframe\n",
    "\n",
    "imdb = pd.read_csv('data/imdb_raw.csv')\n",
    "\n",
    "# Drop 19 since it has no reviews or data aside from name\n",
    "imdb = imdb.drop(19, axis='index')\n",
    "\n",
    "# Drop 170 since it is a DVD containing episodes from different shows and not a movie\n",
    "imdb = imdb.drop(170, axis='index')\n",
    "\n",
    "imdb = clean_imdb(imdb)\n",
    "\n",
    "imdb.to_csv('disney_movie_analysis/data/imdb.csv', index = False)"
   ]
  }
 ],
 "metadata": {
  "kernelspec": {
   "display_name": "base",
   "language": "python",
   "name": "python3"
  },
  "language_info": {
   "codemirror_mode": {
    "name": "ipython",
    "version": 3
   },
   "file_extension": ".py",
   "mimetype": "text/x-python",
   "name": "python",
   "nbconvert_exporter": "python",
   "pygments_lexer": "ipython3",
   "version": "3.10.9"
  }
 },
 "nbformat": 4,
 "nbformat_minor": 2
}
