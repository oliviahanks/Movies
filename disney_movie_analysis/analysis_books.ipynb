{
 "cells": [
  {
   "cell_type": "markdown",
   "metadata": {},
   "source": [
    "Import Functions"
   ]
  },
  {
   "cell_type": "code",
   "execution_count": null,
   "metadata": {},
   "outputs": [],
   "source": [
    "# Packages\n",
    "import requests\n",
    "import pandas as pd\n",
    "from bs4 import BeautifulSoup\n",
    "import re\n",
    "\n",
    "# Our Functions\n",
    "from scrape_data import scrape_fandom\n",
    "from clean_data_functions import clean_fandom"
   ]
  },
  {
   "cell_type": "markdown",
   "metadata": {},
   "source": [
    "Use Functions to Scrape and Clean Data"
   ]
  },
  {
   "cell_type": "markdown",
   "metadata": {},
   "source": [
    "Our functions allow you to scrape data from https://disney.fandom.com/wiki/Category:Films_based_on_books which contains Disney movies with book counterparts."
   ]
  },
  {
   "cell_type": "code",
   "execution_count": null,
   "metadata": {},
   "outputs": [],
   "source": [
    "# Scrape from Disney Fandom\n",
    "\n",
    "webpage = \"https://disney.fandom.com/wiki/Category:Films_based_on_books\"\n",
    "\n",
    "fandom = scrape_fandom(webpage)\n",
    "\n",
    "fandom.to_csv('data/disney_fandom_raw.csv', index = False)"
   ]
  },
  {
   "cell_type": "code",
   "execution_count": null,
   "metadata": {},
   "outputs": [],
   "source": [
    "# Clean Disney Fandom Dataframe\n",
    "\n",
    "fandom = pd.read_csv('data/disney_fandom_raw.csv')\n",
    "\n",
    "fandom = clean_fandom(fandom)\n",
    "\n",
    "fandom.to_csv('data/disney_fandom.csv', index = False)\n"
   ]
  }
 ],
 "metadata": {
  "language_info": {
   "name": "python"
  }
 },
 "nbformat": 4,
 "nbformat_minor": 2
}
